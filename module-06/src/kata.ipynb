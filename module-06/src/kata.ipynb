{
 "cells": [
  {
   "cell_type": "markdown",
   "metadata": {},
   "source": [
    "# Ejercicio 1: crear y usar listas en Python"
   ]
  },
  {
   "cell_type": "code",
   "execution_count": null,
   "metadata": {},
   "outputs": [],
   "source": [
    "planets = ['Mercury', 'Venus', 'Earth', 'Mars', 'Jupiter', 'Saturn', 'Uranus', 'Neptune']\n",
    "print(planets)\n",
    "\n",
    "planets.append('Pluto')\n",
    "\n",
    "print(f'Número de planetas: {len(planets)}')\n",
    "print(f'Último planeta de la lista: {planets[-1]}')"
   ]
  },
  {
   "cell_type": "markdown",
   "metadata": {},
   "source": [
    "# Ejercicio 2: trabajando con datos de una lista"
   ]
  },
  {
   "cell_type": "code",
   "execution_count": null,
   "metadata": {},
   "outputs": [],
   "source": [
    "planets = ['Mercury', 'Venus', 'Earth', 'Mars', 'Jupiter', 'Saturn', 'Neptune']\n",
    "\n",
    "input_planet = input(\"Ingrese nombre de planeta: \").capitalize()\n",
    "\n",
    "index_planet = planets.index(input_planet)\n",
    "\n",
    "print(f'Planetas más cercanos al sol: {planets[0:index_planet]}')\n",
    "print(f'Planetas más lejanos al sol: {planets[index_planet + 1:]}')"
   ]
  }
 ],
 "metadata": {
  "interpreter": {
   "hash": "2d643069ed1842a1be03fa5c7adec6ae7217d88fac709e3ce807fe9606a11f48"
  },
  "kernelspec": {
   "display_name": "Python 3.10.1 64-bit",
   "language": "python",
   "name": "python3"
  },
  "language_info": {
   "codemirror_mode": {
    "name": "ipython",
    "version": 3
   },
   "file_extension": ".py",
   "mimetype": "text/x-python",
   "name": "python",
   "nbconvert_exporter": "python",
   "pygments_lexer": "ipython3",
   "version": "3.10.1"
  },
  "orig_nbformat": 4
 },
 "nbformat": 4,
 "nbformat_minor": 2
}
