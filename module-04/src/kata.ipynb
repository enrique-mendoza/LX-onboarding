{
 "cells": [
  {
   "cell_type": "markdown",
   "metadata": {},
   "source": [
    "# Ejercicio 1: transformar cadenas"
   ]
  },
  {
   "cell_type": "code",
   "execution_count": null,
   "metadata": {},
   "outputs": [],
   "source": [
    "text = \"\"\"Interesting facts about the Moon. The Moon is Earth's only satellite. There are several interesting facts about the Moon and how it affects life here on Earth. \n",
    "On average, the Moon moves 4cm away from the Earth every year. This yearly drift is not significant enough to cauThis yearly drift is not significant enough to cause immediate effects on Earth. The highest daylight temperature of the Moon is 127 C.\"\"\"\n",
    "key_words = [\"average\", \"temperature\", \"distance\"]\n",
    "\n",
    "text_split = text.lower().split('. ')\n",
    "\n",
    "for word in text_split:\n",
    "    for key_word in key_words:\n",
    "        if key_word in word:\n",
    "            print(word)\n",
    "            break\n",
    "\n",
    "for word in text_split:\n",
    "    for key_word in key_words:\n",
    "        if key_word in word:\n",
    "            print(word.replace(\" c\", \" Celsius\"))\n",
    "            break \n"
   ]
  },
  {
   "cell_type": "markdown",
   "metadata": {},
   "source": [
    "# Ejercicio 2: formateando cadenas"
   ]
  },
  {
   "cell_type": "code",
   "execution_count": null,
   "metadata": {},
   "outputs": [],
   "source": [
    "# Datos a utilizar\n",
    "name = \"Moon\"\n",
    "gravity = 0.00162 # en kms\n",
    "planet = \"Earth\"\n",
    "\n",
    "title = f'About {name}'\n",
    "data = f\"\"\"Gravity on {name} = {gravity * 1000} m/s2\n",
    "Planet = {planet}\"\"\"\n",
    "\n",
    "template = f\"\"\"{title.title()}\n",
    "{data}\n",
    "\"\"\"\n",
    "\n",
    "print(template)\n",
    "\n",
    "name = \"Mars\"\n",
    "gravity = 0.00143 # en kms \n",
    "planet = \"Ganymede\"\n",
    "\n",
    "distance_to_meters = gravity * 1000\n",
    "\n",
    "new_title = f'Gravity Facts about {planet}'\n",
    "new_data = \"\"\"Planet Name: {name}\n",
    "Gravity on {planet}: {distanceToMeters} m/s2\"\"\".format(name=name, planet=planet, distanceToMeters=distance_to_meters)\n",
    "\n",
    "new_template = f\"\"\"{new_title.title()}\n",
    "{new_data}\"\"\"\n",
    "\n",
    "print(new_template)"
   ]
  }
 ],
 "metadata": {
  "interpreter": {
   "hash": "2d643069ed1842a1be03fa5c7adec6ae7217d88fac709e3ce807fe9606a11f48"
  },
  "kernelspec": {
   "display_name": "Python 3.10.1 64-bit",
   "language": "python",
   "name": "python3"
  },
  "language_info": {
   "codemirror_mode": {
    "name": "ipython",
    "version": 3
   },
   "file_extension": ".py",
   "mimetype": "text/x-python",
   "name": "python",
   "nbconvert_exporter": "python",
   "pygments_lexer": "ipython3",
   "version": "3.10.1"
  },
  "orig_nbformat": 4
 },
 "nbformat": 4,
 "nbformat_minor": 2
}
