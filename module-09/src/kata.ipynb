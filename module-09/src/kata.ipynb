{
 "cells": [
  {
   "cell_type": "markdown",
   "metadata": {},
   "source": [
    "# Ejercicio 1: uso de funciones en Python\n",
    "\n",
    "Trabajar con argumentos en funciones."
   ]
  },
  {
   "cell_type": "code",
   "execution_count": null,
   "metadata": {},
   "outputs": [],
   "source": [
    "def report(gas1, gas2, gas3):\n",
    "    return f\"\"\"Total average: {avg(gas1, gas2, gas3)}%\n",
    "    Gas station 1: {gas1}%\n",
    "    Gas station 2: {gas2}%\n",
    "    Gas station 3: {gas3}%\n",
    "    \"\"\"\n",
    "\n",
    "def avg(*args):\n",
    "    return sum(args) / len(args) \n",
    "\n",
    "report(30, 32, 50)"
   ]
  },
  {
   "cell_type": "markdown",
   "metadata": {},
   "source": [
    "# Ejercicio 2: trabajo con argumentos de palabra clave\n",
    "\n",
    "Trabajar con argumentos de palabras clave en funciones."
   ]
  },
  {
   "cell_type": "code",
   "execution_count": null,
   "metadata": {},
   "outputs": [],
   "source": [
    "def report(destination, *minutes, **fuel_reservoirs):\n",
    "    total_report = f\"\"\"\n",
    "    Destination: {destination}\n",
    "    Total minutes: {sum(minutes)}\n",
    "    Total fuel: {sum(fuel_reservoirs.values())}\n",
    "    \"\"\"\n",
    "    \n",
    "    for tank, fuel in fuel_reservoirs.items():\n",
    "        total_report += f'{tank}: {fuel} ' \n",
    "\n",
    "    return total_report \n",
    "\n",
    "report('Earth', 10, 10, 10, left=2000, right=2000)"
   ]
  }
 ],
 "metadata": {
  "interpreter": {
   "hash": "2d643069ed1842a1be03fa5c7adec6ae7217d88fac709e3ce807fe9606a11f48"
  },
  "kernelspec": {
   "display_name": "Python 3.10.1 64-bit",
   "language": "python",
   "name": "python3"
  },
  "language_info": {
   "codemirror_mode": {
    "name": "ipython",
    "version": 3
   },
   "file_extension": ".py",
   "mimetype": "text/x-python",
   "name": "python",
   "nbconvert_exporter": "python",
   "pygments_lexer": "ipython3",
   "version": "3.10.1"
  },
  "orig_nbformat": 4
 },
 "nbformat": 4,
 "nbformat_minor": 2
}
