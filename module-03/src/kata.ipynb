{
 "cells": [
  {
   "cell_type": "markdown",
   "metadata": {},
   "source": [
    "# Ejercicio: escribir declaraciones if, else y elif\n",
    "\n",
    "Escribir lógica condicional que imprima una advertencia si un asteroide se acerca a la Tierra demasiado rápido."
   ]
  },
  {
   "cell_type": "code",
   "execution_count": null,
   "metadata": {},
   "outputs": [],
   "source": [
    "# Primer ejercicio:\n",
    "velocityAsteroid = 49\n",
    "\n",
    "if velocityAsteroid > 25:\n",
    "    print(\"¡Peligro!\")\n",
    "else:\n",
    "    print(\"¡Fuera de peligro!\")"
   ]
  },
  {
   "cell_type": "code",
   "execution_count": null,
   "metadata": {},
   "outputs": [],
   "source": [
    "# Segundo ejercicio:\n",
    "velocityAsteroid = 19\n",
    "\n",
    "if velocityAsteroid > 20:\n",
    "    print(\"¡Miren esa luz en el cielo!\")\n",
    "elif velocityAsteroid == 20:\n",
    "    print(\"¡Miren esa luz en el cielo!\")\n",
    "else:\n",
    "    print(\"Cielo despejado\")"
   ]
  },
  {
   "cell_type": "markdown",
   "metadata": {},
   "source": [
    "# Ejercicio: uso de operadores and y or\n",
    "\n",
    "Escribir un programa que emita una advertencia o información correcta a la gente de la Tierra, según la velocidad y el tamaño de un asteroide."
   ]
  },
  {
   "cell_type": "code",
   "execution_count": null,
   "metadata": {},
   "outputs": [],
   "source": [
    "velocityAsteroid = 10\n",
    "sizeAsteroid = 10\n",
    "\n",
    "if velocityAsteroid > 25 and sizeAsteroid > 25:\n",
    "    print(\"¡Peligro!\")\n",
    "elif velocityAsteroid >= 20:\n",
    "    print(\"¡Miren esa luz en el cielo!\")\n",
    "elif sizeAsteroid < 25:\n",
    "    print(\"Cielo despejado\")\n",
    "else:\n",
    "    print(\"Cielo despejado\")"
   ]
  }
 ],
 "metadata": {
  "interpreter": {
   "hash": "2d643069ed1842a1be03fa5c7adec6ae7217d88fac709e3ce807fe9606a11f48"
  },
  "kernelspec": {
   "display_name": "Python 3.10.1 64-bit",
   "language": "python",
   "name": "python3"
  },
  "language_info": {
   "codemirror_mode": {
    "name": "ipython",
    "version": 3
   },
   "file_extension": ".py",
   "mimetype": "text/x-python",
   "name": "python",
   "nbconvert_exporter": "python",
   "pygments_lexer": "ipython3",
   "version": "3.10.1"
  },
  "orig_nbformat": 4
 },
 "nbformat": 4,
 "nbformat_minor": 2
}
