{
 "cells": [
  {
   "cell_type": "markdown",
   "metadata": {},
   "source": [
    "# Ejercicio 1: creación de diccionarios de Python\n",
    "\n",
    "Crear y modificar un diccionario de Python."
   ]
  },
  {
   "cell_type": "code",
   "execution_count": null,
   "metadata": {},
   "outputs": [],
   "source": [
    "planet = {\n",
    "    'name': 'mars',\n",
    "    'moons': 2,\n",
    "}\n",
    "\n",
    "print(f'{planet.get(\"moons\")} moons in {planet.get(\"name\")}')\n",
    "\n",
    "planet.update({\n",
    "        'circunference (km)': {\n",
    "            'polar': 6752,\n",
    "            'equatorial': 6792,\n",
    "        }\n",
    "    }\n",
    ")\n",
    "\n",
    "print(f'{planet[\"name\"]} has 2 circunference: {planet[\"circunference (km)\"][\"polar\"]} (polar) and {planet[\"circunference (km)\"][\"equatorial\"]} (equatorial)')"
   ]
  },
  {
   "cell_type": "markdown",
   "metadata": {},
   "source": [
    "# Programación dinámica con diccionarios\n",
    "\n",
    "Cálculo de valores."
   ]
  },
  {
   "cell_type": "code",
   "execution_count": null,
   "metadata": {},
   "outputs": [],
   "source": [
    "# Planets and moons\n",
    "planet_moons = {\n",
    "    'mercury': 0,\n",
    "    'venus': 0,\n",
    "    'earth': 1,\n",
    "    'mars': 2,\n",
    "    'jupiter': 79,\n",
    "    'saturn': 82,\n",
    "    'uranus': 27,\n",
    "    'neptune': 14,\n",
    "    'pluto': 5,\n",
    "    'haumea': 2,\n",
    "    'makemake': 1,\n",
    "    'eris': 1\n",
    "}\n",
    "\n",
    "moons = planet_moons.values()\n",
    "planets = len(planet_moons.keys())\n",
    "total_moons = 0\n",
    "\n",
    "for moon in moons:\n",
    "    total_moons += moon \n",
    "\n",
    "print(f'Total moons: {total_moons}. Average moons: {total_moons / planets}')"
   ]
  }
 ],
 "metadata": {
  "interpreter": {
   "hash": "becce725a01e6d2980a1195a05d7a5e66007e86e29a451a8d64d3fd3fbfc4cf5"
  },
  "kernelspec": {
   "display_name": "Python 3.10.1 ('env': venv)",
   "language": "python",
   "name": "python3"
  },
  "language_info": {
   "codemirror_mode": {
    "name": "ipython",
    "version": 3
   },
   "file_extension": ".py",
   "mimetype": "text/x-python",
   "name": "python",
   "nbconvert_exporter": "python",
   "pygments_lexer": "ipython3",
   "version": "3.10.1"
  },
  "orig_nbformat": 4
 },
 "nbformat": 4,
 "nbformat_minor": 2
}
