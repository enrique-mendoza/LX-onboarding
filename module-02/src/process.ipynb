{
 "cells": [
  {
   "cell_type": "markdown",
   "metadata": {},
   "source": [
    "# Crear entorno virtual\n",
    "\n",
    "A través de la consola / terminal, viaja a la carpeta de tu preferencia e ingresa el siguiente comando:"
   ]
  },
  {
   "cell_type": "markdown",
   "metadata": {},
   "source": [
    "    python -m venv env"
   ]
  },
  {
   "cell_type": "markdown",
   "metadata": {},
   "source": [
    "En este punto se crearan los siguientes directorios:\n",
    "\n",
    "![](../src/images/folders.png)"
   ]
  },
  {
   "cell_type": "markdown",
   "metadata": {},
   "source": [
    "# Activar y desactivar entorno virtual\n",
    "\n",
    "Una vez creado este entorno virtual es necesario activarlo para su posterior uso. Para ello se accederá al archivo **activate** ubicado en la carpeta Scripts."
   ]
  },
  {
   "cell_type": "markdown",
   "metadata": {},
   "source": [
    "Llamar a este archivo muestra _(env)_ previo a la ruta en consola.\n",
    "\n",
    "![](../src/images/activate.png)"
   ]
  },
  {
   "cell_type": "markdown",
   "metadata": {},
   "source": [
    "De igual forma llamar al archivo **deactivate** permite desactivar el entorno.\n",
    "\n",
    "![](../src/images/deactivate.png)"
   ]
  },
  {
   "cell_type": "markdown",
   "metadata": {},
   "source": [
    "# Instalación de paquetes\n",
    "\n",
    "Para realizar la instalación de paquetes en nuestro entorno virtual es necesario ejecutar el comando **pip** seguido del nombre del paquete que deseamos instalar."
   ]
  },
  {
   "cell_type": "markdown",
   "metadata": {},
   "source": [
    "    pip install python-dateutil"
   ]
  },
  {
   "cell_type": "markdown",
   "metadata": {},
   "source": [
    "Una vez instalado podemos observar la carpeta del paquete dentro de la carpeta **lib**:\n",
    "\n",
    "![](../src/images/package.png)"
   ]
  },
  {
   "cell_type": "markdown",
   "metadata": {},
   "source": [
    "Una manera más rápida de conocer qué paquetes tenemos instalados en nuestro entorno virtual es a través del siguiente comando:"
   ]
  },
  {
   "cell_type": "markdown",
   "metadata": {},
   "source": [
    "    pip freeze"
   ]
  },
  {
   "cell_type": "markdown",
   "metadata": {},
   "source": [
    "El cual listará todos paquetes instalados dependiendo de si nos encontramos o no dentro de nuestro entorno virtual\n",
    "\n",
    "Dentro de nuestro entorno virtual:\n",
    "\n",
    "![](../src/images/freeze1.png)\n",
    "\n",
    "Fuera de nuestro entorno virtual:\n",
    "\n",
    "![](../src/images/freeze2.png)"
   ]
  },
  {
   "cell_type": "markdown",
   "metadata": {},
   "source": [
    "Después de realizar correctamente está instalación podemos utilizar dicho paquete para desarrollar aplicaciones tal como se muestra en el archivo **app.py** contenido en este proyecto."
   ]
  }
 ],
 "metadata": {
  "language_info": {
   "name": "python"
  },
  "orig_nbformat": 4
 },
 "nbformat": 4,
 "nbformat_minor": 2
}
